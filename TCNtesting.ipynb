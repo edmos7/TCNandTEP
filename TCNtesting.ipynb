{
 "cells": [
  {
   "cell_type": "code",
   "execution_count": 1,
   "id": "68970454",
   "metadata": {},
   "outputs": [],
   "source": [
    "import tensorflow as tf\n",
    "import pandas as pd\n",
    "import numpy as np"
   ]
  },
  {
   "cell_type": "code",
   "execution_count": null,
   "id": "9eebb0e7",
   "metadata": {},
   "outputs": [],
   "source": [
    "model = tf.keras.models.load_model(\"./models/TCN0.keras\")"
   ]
  },
  {
   "cell_type": "markdown",
   "id": "1a3b027d",
   "metadata": {},
   "source": [
    "First we load the train set and get its means and stdevs"
   ]
  },
  {
   "cell_type": "code",
   "execution_count": 3,
   "id": "d1fae912",
   "metadata": {},
   "outputs": [],
   "source": [
    "anom_train = pd.read_parquet(\"./data/TEP_Faulty_Training.parquet\")"
   ]
  },
  {
   "cell_type": "code",
   "execution_count": 4,
   "id": "db9ff02c",
   "metadata": {},
   "outputs": [],
   "source": [
    "X_train = anom_train.drop([\"simulationRun\",\"sample\",\"faultNumber\"],axis=1)"
   ]
  },
  {
   "cell_type": "code",
   "execution_count": 5,
   "id": "90ea9134",
   "metadata": {},
   "outputs": [],
   "source": [
    "del anom_train"
   ]
  },
  {
   "cell_type": "code",
   "execution_count": 6,
   "id": "5420208d",
   "metadata": {},
   "outputs": [],
   "source": [
    "X_train = X_train.values.reshape((10000, 500, 52))"
   ]
  },
  {
   "cell_type": "code",
   "execution_count": 7,
   "id": "a141ba49",
   "metadata": {},
   "outputs": [],
   "source": [
    "# Calculate means and standard deviations from the training set\n",
    "train_means = X_train.mean(axis=(0, 1))\n",
    "train_std = X_train.std(axis=(0, 1))"
   ]
  },
  {
   "cell_type": "code",
   "execution_count": 8,
   "id": "628e06da",
   "metadata": {},
   "outputs": [],
   "source": [
    "del X_train"
   ]
  },
  {
   "cell_type": "code",
   "execution_count": 9,
   "id": "55288a9b",
   "metadata": {},
   "outputs": [],
   "source": [
    "anom_test = pd.read_parquet(\"./data/TEP_Faulty_Testing.parquet\")"
   ]
  },
  {
   "cell_type": "code",
   "execution_count": 10,
   "id": "849ab407",
   "metadata": {},
   "outputs": [
    {
     "data": {
      "text/plain": [
       "(9600000, 55)"
      ]
     },
     "execution_count": 10,
     "metadata": {},
     "output_type": "execute_result"
    }
   ],
   "source": [
    "anom_test.shape"
   ]
  },
  {
   "cell_type": "code",
   "execution_count": 11,
   "id": "a33ae2dc",
   "metadata": {},
   "outputs": [
    {
     "data": {
      "text/plain": [
       "10000.0"
      ]
     },
     "execution_count": 11,
     "metadata": {},
     "output_type": "execute_result"
    }
   ],
   "source": [
    "anom_test.shape[0] / 960"
   ]
  },
  {
   "cell_type": "code",
   "execution_count": 12,
   "id": "744b7bbf",
   "metadata": {},
   "outputs": [
    {
     "data": {
      "text/plain": [
       "500.0"
      ]
     },
     "execution_count": 12,
     "metadata": {},
     "output_type": "execute_result"
    }
   ],
   "source": [
    "anom_test.shape[0] / 960 / 20"
   ]
  },
  {
   "cell_type": "code",
   "execution_count": 13,
   "id": "37a84a8f",
   "metadata": {},
   "outputs": [],
   "source": [
    "# Preparing test set\n",
    "simulation_length = 960\n",
    "num_simulations = 10000\n",
    "num_features = 52\n",
    "num_classes = 20\n",
    "\n",
    "y_test = anom_test['faultNumber'].values[::simulation_length]\n",
    "X_test = anom_test.drop([\"simulationRun\",\"sample\",\"faultNumber\"],axis=1)"
   ]
  },
  {
   "cell_type": "code",
   "execution_count": 14,
   "id": "3d4ebbd4",
   "metadata": {},
   "outputs": [],
   "source": [
    "del anom_test"
   ]
  },
  {
   "cell_type": "code",
   "execution_count": 15,
   "id": "0c7c9484",
   "metadata": {},
   "outputs": [],
   "source": [
    "X_test = X_test.values.reshape((num_simulations, simulation_length, num_features))"
   ]
  },
  {
   "cell_type": "code",
   "execution_count": 16,
   "id": "5cad8cd8",
   "metadata": {},
   "outputs": [
    {
     "data": {
      "text/plain": [
       "(10000, 960, 52)"
      ]
     },
     "execution_count": 16,
     "metadata": {},
     "output_type": "execute_result"
    }
   ],
   "source": [
    "X_test.shape"
   ]
  },
  {
   "cell_type": "code",
   "execution_count": 17,
   "id": "0cf271b9",
   "metadata": {},
   "outputs": [
    {
     "data": {
      "text/plain": [
       "(10000,)"
      ]
     },
     "execution_count": 17,
     "metadata": {},
     "output_type": "execute_result"
    }
   ],
   "source": [
    "y_test.shape"
   ]
  },
  {
   "cell_type": "code",
   "execution_count": 18,
   "id": "ceffad81",
   "metadata": {},
   "outputs": [],
   "source": [
    "# Standardize the test set\n",
    "X_test_scaled = (X_test - train_means) / (train_std)"
   ]
  },
  {
   "cell_type": "code",
   "execution_count": 19,
   "id": "4081683f",
   "metadata": {},
   "outputs": [],
   "source": [
    "y_test_encoded = tf.keras.utils.to_categorical(y_test - 1, num_classes=num_classes)"
   ]
  },
  {
   "cell_type": "code",
   "execution_count": 20,
   "id": "0ec8520e",
   "metadata": {},
   "outputs": [
    {
     "name": "stdout",
     "output_type": "stream",
     "text": [
      "\u001b[1m313/313\u001b[0m \u001b[32m━━━━━━━━━━━━━━━━━━━━\u001b[0m\u001b[37m\u001b[0m \u001b[1m53s\u001b[0m 150ms/step - accuracy: 0.9312 - loss: 0.3279\n"
     ]
    }
   ],
   "source": [
    "loss, acc = model.evaluate(X_test_scaled, y_test_encoded)"
   ]
  },
  {
   "cell_type": "code",
   "execution_count": 21,
   "id": "f5729ca5",
   "metadata": {},
   "outputs": [
    {
     "data": {
      "text/plain": [
       "0.32733577489852905"
      ]
     },
     "execution_count": 21,
     "metadata": {},
     "output_type": "execute_result"
    }
   ],
   "source": [
    "loss"
   ]
  },
  {
   "cell_type": "code",
   "execution_count": 22,
   "id": "280e5ecd",
   "metadata": {},
   "outputs": [
    {
     "data": {
      "text/plain": [
       "0.9301999807357788"
      ]
     },
     "execution_count": 22,
     "metadata": {},
     "output_type": "execute_result"
    }
   ],
   "source": [
    "acc"
   ]
  },
  {
   "cell_type": "markdown",
   "id": "fd4decad",
   "metadata": {},
   "source": [
    "----------"
   ]
  }
 ],
 "metadata": {
  "kernelspec": {
   "display_name": "Python 3",
   "language": "python",
   "name": "python3"
  },
  "language_info": {
   "codemirror_mode": {
    "name": "ipython",
    "version": 3
   },
   "file_extension": ".py",
   "mimetype": "text/x-python",
   "name": "python",
   "nbconvert_exporter": "python",
   "pygments_lexer": "ipython3",
   "version": "3.11.9"
  }
 },
 "nbformat": 4,
 "nbformat_minor": 5
}
